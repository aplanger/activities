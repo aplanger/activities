{
 "cells": [
  {
   "cell_type": "markdown",
   "metadata": {},
   "source": [
    "## Variables"
   ]
  },
  {
   "cell_type": "markdown",
   "metadata": {},
   "source": [
    "A <i>variable</i> is a reserved spot in computer memory that stores a particular value or a reference to an object. In Python which is a <i>dynamically-typed language</i> (unlike other statically-typed languages like Java), you can define a variable <code>x</code> to be certain type and then later in your code, it's acceptable to assign an expression of a different type to <code>x</code>).\n",
    "\n",
    "Different data types in Python include numbers (integers and floats), strings, lists, tuples, and dictionaries. This means that the following is valid code and will not error:\n",
    "\n",
    "<code>\n",
    "x = 5\n",
    "print(x)\n",
    "\n",
    "x = \"Hello, world!\"\n",
    "</code>\n",
    "\n",
    "Variables are useful because they allow you to save your place -- whether a calculated value that you don't want to lose the precision of while retyping, or a pointer to something you might potentially lose in the future. For example, the below is an example of bad coding practice (you should never, ever assign a Python keyword corresponding to a built-in function to another value because that means that you could lose the function in the current environment):\n",
    "\n",
    "<code>\n",
    "print\n",
    "</code>\n",
    "<output>&lt;built-in function print&gt;</output>\n",
    "<code>\n",
    "x = print\n",
    "x(5)\n",
    "</code>\n",
    "<output>5</output>\n",
    "<code>\n",
    "print = 2\n",
    "print(2)\n",
    "</code>\n",
    "<output>Traceback (most recent call last):\n",
    "  File \"&lt;stdin&gt;\", line 1, in &lt;module&gt;</output>\n",
    "<code>\n",
    "print = x\n",
    "print(2)\n",
    "</code>\n",
    "<output>2</output>\n",
    "\n",
    "The code above may be a little confusing, but let's walk through it. The name <code>print</code> is a built-in function that allows you to print values to the console. The first output shows exactly what we expect when we type in <code>print</code>: the reference to the associated built-in function.\n",
    "\n",
    "<img src = \"block-1.jpg\">\n",
    "\n",
    "In the second block, we assign <code>print</code> to <code>x</code>. This means that there are now 2 references pointing at the same built-in function, which is why it <code>x(5)</code> doesn't error -- that statement is now equivalent to <code>print(5)</code> for the time being.\n",
    "\n",
    "<img src = \"block-2.jpg\">\n",
    "\n",
    "In the third block, we assign print to 2. This means <code>print</code> is no longer pointing but rather storing the value 2. This is why <code>print(2)</code> errors; <code>print</code> is not a function and <code>2(2)</code> is a statement the computer doesn't know how to interpret.\n",
    "\n",
    "<img src = \"block-3.jpg\">\n",
    "\n",
    "In the fourth block, we point the name <code>print</code> back to the same thing the variable <code>x</code> is pointing to -- the built-in function. Now, when we execute <code>print(2)</code>, the appropriate function is called and all is well (mostly).\n",
    "\n",
    "<img src = \"block-4.jpg\">\n",
    "\n",
    "On another note, so far, we've been using a boring <code>x</code> as our variable name. According to good coding practice, it's a better idea to provide more descriptive variable names so that you can reread your code and understand its flow more efficiently, and so that others can read your code for the first time and easily decipher your thought process. For instance, if you're storing the speed of light in a variable, try to call it something like <code>light_speed</code> instead of <code>c</code> (which is something physicists might understand, but even so, the name is not intuitive).\n",
    "\n",
    "The following rules are applied to variable names in Python (other variable names will not be considered valid and will result in errors):\n",
    "- must start with a letter or the underscore character\n",
    "- cannot start with a number\n",
    "- can only contain A-z (uppercase and lowercase), 0-9, and the underscore\n",
    "- case-sensitive (blue, BLUE, and bLuE are different variables)"
   ]
  },
  {
   "cell_type": "markdown",
   "metadata": {
    "collapsed": true
   },
   "source": [
    "### Exercises"
   ]
  },
  {
   "cell_type": "markdown",
   "metadata": {},
   "source": [
    "1) Which of the following variable names are invalid? You have the cell below to experiment. When you're done, print the names that answer the question."
   ]
  },
  {
   "cell_type": "code",
   "execution_count": null,
   "metadata": {
    "collapsed": true
   },
   "outputs": [],
   "source": [
    "var_names = [\"2_cool_4_skool\", \"california_fire_dates\", \"triangle_area\", \"CaT\", \"67%\", \"pta$\", \"_running_times\"]\n",
    "\n",
    "# Experiment in this cell! The names in the list are the variable names you should consider."
   ]
  },
  {
   "cell_type": "markdown",
   "metadata": {},
   "source": [
    "2) In a class of 45, students took a survey in which they picked their favorite color. There were 4 options -- red, yellow, green, and blue. Examine the code below:\n",
    "\n",
    "<code>\n",
    "colors_picked = 4\n",
    "num_students = 45\n",
    "red_students = 13\n",
    "blue_students = 15\n",
    "green_students = 10\n",
    "yellow_students = 5\n",
    "\n",
    "x = num_students / colors_picked\n",
    "y = num_students - red_students - blue_students - green_students - yellow_students\n",
    "z = (red_students + blue_students) / num_students\n",
    "a = max(red_students, blue_students, green_students, yellow_students)\n",
    "</code>\n",
    "\n",
    "We used undescriptive variables to carry out some of our calculations from the survey data. Can you find what statistical terms / descriptions the variables <code>x</code>, </code>y</code>, <code>z</code>, and <code>a</code> actually represent?\n",
    "\n",
    "Use the cell below to fill your answers in the strings assigned to each variable."
   ]
  },
  {
   "cell_type": "code",
   "execution_count": null,
   "metadata": {
    "collapsed": true
   },
   "outputs": [],
   "source": [
    "x = \"what x represents, in the context of the survey\"\n",
    "y = \"what y represents, in the context of the survey\"\n",
    "z = \"what z represents, in the context of the survey\"\n",
    "a = \"what a represents, in the context of the survey\""
   ]
  },
  {
   "cell_type": "markdown",
   "metadata": {},
   "source": [
    "3) Calculate your age in the future! Store the following pieces of personal information in variables: name, current age, current year. Then, output the string (inserting your information as you go along): \"[name], you will be [insert your future age here, you'll have to do a calculation for this] years old in the year 2050.\"\n",
    "\n",
    "Feel free to experiment with your code and change up the destination year from 2050 to something else. Note the locations where you have to alter your code to do this. Is there any way you can make this process more efficient?"
   ]
  },
  {
   "cell_type": "code",
   "execution_count": null,
   "metadata": {
    "collapsed": true
   },
   "outputs": [],
   "source": [
    "# Answer and experiment with 3) in this cell!"
   ]
  }
 ],
 "metadata": {
  "kernelspec": {
   "display_name": "Python 3",
   "language": "python",
   "name": "python3"
  },
  "language_info": {
   "codemirror_mode": {
    "name": "ipython",
    "version": 3
   },
   "file_extension": ".py",
   "mimetype": "text/x-python",
   "name": "python",
   "nbconvert_exporter": "python",
   "pygments_lexer": "ipython3",
   "version": "3.6.3"
  }
 },
 "nbformat": 4,
 "nbformat_minor": 2
}
