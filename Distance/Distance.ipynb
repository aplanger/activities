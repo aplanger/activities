{
 "cells": [
  {
   "cell_type": "markdown",
   "metadata": {},
   "source": [
    "## Distance"
   ]
  },
  {
   "cell_type": "markdown",
   "metadata": {},
   "source": [
    "You're taking a trip to Paris! While you're there, you make a stop at the Eiffel Tower, but now you're hungry. The restaurant you're going to go to is the charming Firmin le Barbier, but how far away is it?\n",
    "\n",
    "We can reduce this real-world problem to the realm of math by considering 2 points on a Cartesian plane (i.e. the x-y plane). Say the Eiffel Tower is at some arbitrary $(x_1, y_1)$ and the restaurant is at $(x_2, y_2)$. Contrast the graphed points with the map image of the locations.\n",
    "\n",
    "<table>\n",
    "    <tr>\n",
    "    <td>\n",
    "        <img src = \"Eiffel-direct-line.png\">\n",
    "    </td>\n",
    "    <td>\n",
    "        <img src = \"graphed-eiffel.png\">\n",
    "    </td>\n",
    "    </tr>\n",
    "</table>\n",
    "\n",
    "As you can see, we've added a triangle to connect the Eiffel Tower and the Firmin le Barbier with some third point to create a right-angled triangle (the backwards L-shaped corner on the bottom right is 90 degrees). From the graphed image on the right, we can see that the x-coordinate of the third point is the same as the x-coordinate $x_2$ and the y-coordinate of the third point is the same as the y-coordinate $y_1$, which means that the third point can now be defined as $(x_2, y_1)$.\n",
    "\n",
    "Our goal is to find the \"as the crow flies\" direct distance from the Eiffel Tower to the restaurant, represented by the label \"hypotenuse.\" The <i>hypotenuse</i> is the longest individual side of right triangle, and it is directly opposite from the 90 degree angle.\n",
    "\n",
    "To get there, let's build off of the information we already have, and derive a general formula step-by-step from it! You'll find yourself using this incremental method throughout your excursions into the fields of data and computer science.\n",
    "\n",
    "We can find the distance between the third point $(x_2, y_1)$ and the Eiffel Tower $(x_1, y_1)$ because both corresponding points lie on the same line. We only have to find the distance between the differing x-coordinates. We know that $x_2 > x_1$ because it is further right on the $x$ number line. This means that $x_2 - x_1$ will be the positive distance between the third point and the Tower. Using similar reasoning for the different y-coordinates, we can determine the distance between the third point and the restaurant to be $y_2 - y_1$.\n",
    "\n",
    "Now, we know 2 of the 3 sides of the constructed right triangle. What we're still missing is the hypotenuse. For this last step, we'll need a famous and very useful theorem.\n",
    "\n",
    "<b>Pythagorean Theorem</b>: The square of the length of the hypotenuse of a right-angled triangle is equal to the sum of the squares of the other two sides. In the diagram below, this can be written algebraically as $a^2 + b^2 = c^2$.\n",
    "\n",
    "<img src = \"pythagorean-theorem.png\">\n",
    "\n",
    "Using this theorem in the context of our problem, we can say that the distance between the third point and Eiffel squared plus the distance between the third point and the restaurant squared equals the distance between Eiffel and the restaurant squared, or mathematically: $(x_2 - x_1)^2 + (y_2 - y_1)^2 = d^2$, where $d$ is the distance we're trying to find. Solving for $d$, we take the square root on both sides of the equation to get $d = \\sqrt{(x_2 - x_1)^2 + (y_2 - y_1)^2}$. We've found a general formula for the distance between two points in a 2-D plane!\n",
    "\n",
    "<b>Distance Formula</b>: The distance between two arbitrary points $(x_1, y_1)$ and $(x_2, y_2)$ on a 2-D coordinate grid is $\\sqrt{(x_2 - x_1)^2 + (y_2 - y_1)^2}$.\n",
    "\n",
    "If we knew the coordinates for the Eiffel Tower and the coordinates for the Firmin le Barbier, we could find a specific numerical distance in miles or some other unit. However, in order to do that, we'd need to define a specific 2-D plane for this purpose, by placing the origin at some point and defining the directions in which the $x$ and $y$ axes point.\n",
    "\n",
    "Now that you've eaten some delicious fish souffle and a sorbet, it's time to go traveling around the world! The distances you determine won't be extremely accurate for some reasons you'll discuss below, but this exercise will be useful in terms of practicing the distance formula."
   ]
  },
  {
   "cell_type": "markdown",
   "metadata": {},
   "source": [
    "### Exercises"
   ]
  },
  {
   "cell_type": "markdown",
   "metadata": {},
   "source": [
    "1) You're in Washington D.C. What's the distance between the Washington Monument and the Smithsonian National Museum in feet? Necessary distances / information are rounded and provided on the map image below.\n",
    "\n",
    "<img src = \"washington.png\">"
   ]
  },
  {
   "cell_type": "code",
   "execution_count": 3,
   "metadata": {
    "collapsed": true
   },
   "outputs": [],
   "source": [
    "# Show your work and calculations for this problem below, assigning your final answer to a variable and printing\n",
    "# the result!"
   ]
  },
  {
   "cell_type": "markdown",
   "metadata": {},
   "source": [
    "2) You've gone vacationing in Japan. What's the distance between the Tokyo Tower and the Hamarikyu Gardens in miles? See the map image below for further information.\n",
    "\n",
    "<img src = \"tokyo.png\">"
   ]
  },
  {
   "cell_type": "code",
   "execution_count": 4,
   "metadata": {
    "collapsed": true
   },
   "outputs": [],
   "source": [
    "# Show your work and calculations for this problem below, assigning your final answer to a variable and printing\n",
    "# the result!"
   ]
  },
  {
   "cell_type": "markdown",
   "metadata": {},
   "source": [
    "3) While you're about to land at an airport, you find yourself at a point 10 miles above, 2 miles directly east and 1 mile directly north of the location you'd like to visit today. What is the distance between your current position and your destination?\n",
    "\n",
    "(Hint: For this problem, you'll need a 3D coordinate system for $x$, $y$, and height. Can you use a similar derivation to the 2-D formula we found above?)"
   ]
  },
  {
   "cell_type": "code",
   "execution_count": null,
   "metadata": {
    "collapsed": true
   },
   "outputs": [],
   "source": [
    "# Show your work and calculations for this problem below, assigning your final answer to a variable and printing\n",
    "# the result!"
   ]
  },
  {
   "cell_type": "markdown",
   "metadata": {},
   "source": [
    "4) <b>Optional:</b> Why do you think we've been using such small distances so far instead of measuring distances from, say, SF to Hong Kong using the 2-D or 3-D formulas we've found?"
   ]
  },
  {
   "cell_type": "markdown",
   "metadata": {},
   "source": [
    "[Insert your answer in this markdown cell.]"
   ]
  },
  {
   "cell_type": "markdown",
   "metadata": {},
   "source": [
    "### Relevance\n",
    "\n",
    "As you probably noticed while considering (4) from the Exercises, the formula that we found in this section is accurate for small distances on Earth and can be considered an approximation to real distance.\n",
    "\n",
    "What do Google Maps engineers take into account when they're calculating the distance between 2 locations? Here are a few ideas to start you off:\n",
    "- Streets and roads. You can't just drive / walk through anywhere -- some areas are private property or impossible to cross (lakes / oceans). Hence, a constraint they consider when suggesting a route is the existence of a path connecting the original location to the final one, or perhaps an intermediate location.\n",
    "- Your preferences. Do you want to walk? Bike? Avoid a highway? Maps will try to return the optimal route given your inputs.\n",
    "- Construction / closed routes.\n",
    "\n",
    "Distances of road stretches that are currently experiencing traffic could also be important in terms of measuring estimated time of arrival.\n",
    "\n",
    "You could use your newfound knowledge about distance in data analysis to...\n",
    "- find the best-rated restaurant near the Eiffel Tower while also minimizing distance\n",
    "- recognize patterns in disease spread in a group of neighborhoods\n",
    "- learn k-means clustering, a method of cluster analysis that entails finding the closest cluster 'mean' point to a new data point, and assigning it the relevant cluster accordingly"
   ]
  }
 ],
 "metadata": {
  "kernelspec": {
   "display_name": "Python 3",
   "language": "python",
   "name": "python3"
  },
  "language_info": {
   "codemirror_mode": {
    "name": "ipython",
    "version": 3
   },
   "file_extension": ".py",
   "mimetype": "text/x-python",
   "name": "python",
   "nbconvert_exporter": "python",
   "pygments_lexer": "ipython3",
   "version": "3.6.3"
  }
 },
 "nbformat": 4,
 "nbformat_minor": 2
}
